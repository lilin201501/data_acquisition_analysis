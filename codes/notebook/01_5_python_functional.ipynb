{
 "cells": [
  {
   "cell_type": "markdown",
   "metadata": {},
   "source": [
    "# 数据分析课程参考资料\n",
    "**模块 1: Python Preliminaries**\n",
    "* 李林-成都\n",
    "* 更多信息，参考网站(https://github.com/lilin201501/lilin201501)。"
   ]
  },
  {
   "cell_type": "markdown",
   "metadata": {},
   "source": [
    "# 模块 1 内容\n",
    "\n",
    "* 1.1.节：课程简介  [[Notebook]](01_1_overview.ipynb)\n",
    "* 1.2.节：Python简介[[Notebook]](01_2_intro_python.ipynb)\n",
    "* 1.3.节：Python列表,字典，集合和JSON [[Notebook]](01_3_python_collections.ipynb)\n",
    "* 1.4.节：文件处理 [[Notebook]](01_4_python_files.ipynb)\n",
    "* **1.5.节：函数，Lambda表达以及Map/Reduce操作** [[Notebook]](01_5_python_functional.ipynb)"
   ]
  },
  {
   "cell_type": "markdown",
   "metadata": {},
   "source": [
    "# 1.5.节：函数，Lambda表达以及Map/Reduce操作\n",
    "\n",
    "函数、**lambda**和**map/reduce**允许您以高级方式处理数据。我们将在这里介绍这些技术，并在下一个模块中进行扩展，该模块将讨论pandas。\n",
    "\n",
    "函数参数可以在python中命名或未命名。也可以使用默认值。考虑以下功能。"
   ]
  },
  {
   "cell_type": "code",
   "execution_count": 2,
   "metadata": {},
   "outputs": [
    {
     "name": "stdout",
     "output_type": "stream",
     "text": [
      "Hello 王五, this is 张三.\n",
      "Goodbye 赵六, this is 李四.\n",
      "你好 John, this is Jeff.\n"
     ]
    }
   ],
   "source": [
    "def say_hello(speaker, person_to_greet, greeting = \"Hello\"):\n",
    "    print(f'{greeting} {person_to_greet}, this is {speaker}.')\n",
    "    \n",
    "say_hello('张三', \"王五\")\n",
    "say_hello('李四', \"赵六\", \"Goodbye\")\n",
    "say_hello(speaker='Jeff', person_to_greet=\"John\", greeting = \"你好\")"
   ]
  },
  {
   "cell_type": "markdown",
   "metadata": {},
   "source": [
    "函数是捕获通常执行的代码的一种方法。考虑下面的函数，该函数可用于从字符串中修剪空白，使第一个字母大写。"
   ]
  },
  {
   "cell_type": "code",
   "execution_count": 2,
   "metadata": {},
   "outputs": [],
   "source": [
    "def process_string(str):\n",
    "    t = str.strip()\n",
    "    return t[0].upper()+t[1:]"
   ]
  },
  {
   "cell_type": "markdown",
   "metadata": {},
   "source": [
    "现在可以很容易地调用这个函数。"
   ]
  },
  {
   "cell_type": "code",
   "execution_count": 3,
   "metadata": {},
   "outputs": [
    {
     "name": "stdout",
     "output_type": "stream",
     "text": [
      "\"Hello\"\n"
     ]
    }
   ],
   "source": [
    "str = process_string(\"  hello  \")\n",
    "print(f'\"{str}\"')"
   ]
  },
  {
   "cell_type": "markdown",
   "metadata": {},
   "source": [
    "python的**map**是一个非常有用的函数，可以用许多不同的编程语言提供。**map**函数接受一个**列表**并将一个函数应用于**列表**的每个成员，并返回第二个与第一个大小相同的**列表**。"
   ]
  },
  {
   "cell_type": "code",
   "execution_count": 4,
   "metadata": {},
   "outputs": [
    {
     "data": {
      "text/plain": [
       "['Apple', 'Pear', 'Orange', 'Pine apple']"
      ]
     },
     "execution_count": 4,
     "metadata": {},
     "output_type": "execute_result"
    }
   ],
   "source": [
    "l = ['   apple  ', 'pear ', 'orange', 'pine apple  ']\n",
    "list(map(process_string, l))"
   ]
  },
  {
   "cell_type": "markdown",
   "metadata": {},
   "source": [
    "### Map\n",
    "**map**函数与我们之前探讨过的python**理解**非常相似。下面的**理解**完成了与前面调用**map**相同的任务。"
   ]
  },
  {
   "cell_type": "code",
   "execution_count": 5,
   "metadata": {},
   "outputs": [
    {
     "name": "stdout",
     "output_type": "stream",
     "text": [
      "['Apple', 'Pear', 'Orange', 'Pine apple']\n"
     ]
    }
   ],
   "source": [
    "l = ['   apple  ', 'pear ', 'orange', 'pine apple  ']\n",
    "l2 = [process_string(x) for x in l]\n",
    "print(l2)"
   ]
  },
  {
   "cell_type": "markdown",
   "metadata": {},
   "source": [
    "使用**映射**函数或**理解**的选择取决于程序员。我倾向于使用**映射**，因为它在其他编程语言中很常见。"
   ]
  },
  {
   "cell_type": "markdown",
   "metadata": {},
   "source": [
    "### 过滤器\n",
    "当一个**映射函数**总是创建一个新的**列表**的大小与原来的一样，而**过滤器**函数则创建一个可能更小的**列表**。"
   ]
  },
  {
   "cell_type": "code",
   "execution_count": 6,
   "metadata": {},
   "outputs": [
    {
     "name": "stdout",
     "output_type": "stream",
     "text": [
      "[10, 20]\n"
     ]
    }
   ],
   "source": [
    "def greater_than_five(x):\n",
    "    return x>5\n",
    "\n",
    "l = [ 1, 10, 20, 3, -2, 0]\n",
    "l2 = list(filter(greater_than_five, l))\n",
    "print(l2)"
   ]
  },
  {
   "cell_type": "markdown",
   "metadata": {},
   "source": [
    "### Lambda\n",
    "\n",
    "仅仅为了检查一个值是否大于5，就必须创建一个完整的函数，这看起来有点乏味。一个**lambda表达**可以节省你的精力。lambda本质上是一个未命名的函数。"
   ]
  },
  {
   "cell_type": "code",
   "execution_count": 7,
   "metadata": {},
   "outputs": [
    {
     "name": "stdout",
     "output_type": "stream",
     "text": [
      "[10, 20]\n"
     ]
    }
   ],
   "source": [
    "l = [ 1, 10, 20, 3, -2, 0]\n",
    "l2 = list(filter(lambda x: x>5, l))\n",
    "print(l2)"
   ]
  },
  {
   "cell_type": "markdown",
   "metadata": {},
   "source": [
    "### Reduce\n",
    "\n",
    "最后，我们将使用**reduce**。与**filter**和**map**类似，**reduce**功能也适用于**列表**。然而，*reduce**的结果是一个单一的值。考虑是否要对**列表**的**值**求和。总和由**lambda**实现。"
   ]
  },
  {
   "cell_type": "code",
   "execution_count": 3,
   "metadata": {},
   "outputs": [
    {
     "name": "stdout",
     "output_type": "stream",
     "text": [
      "32\n"
     ]
    }
   ],
   "source": [
    "from functools import reduce\n",
    "\n",
    "l = [ 1, 10, 20, 3, -2, 0]\n",
    "result = reduce(lambda x,y: x+y,l)\n",
    "print(result)"
   ]
  },
  {
   "cell_type": "code",
   "execution_count": null,
   "metadata": {},
   "outputs": [],
   "source": []
  }
 ],
 "metadata": {
  "anaconda-cloud": {},
  "kernelspec": {
   "display_name": "Python 3",
   "language": "python",
   "name": "python3"
  },
  "language_info": {
   "codemirror_mode": {
    "name": "ipython",
    "version": 3
   },
   "file_extension": ".py",
   "mimetype": "text/x-python",
   "name": "python",
   "nbconvert_exporter": "python",
   "pygments_lexer": "ipython3",
   "version": "3.6.5"
  }
 },
 "nbformat": 4,
 "nbformat_minor": 4
}
